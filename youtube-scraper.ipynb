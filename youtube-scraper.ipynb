{
 "cells": [
  {
   "cell_type": "markdown",
   "metadata": {},
   "source": [
    "### ORIGINAL CODE FROM\n",
    "https://github.com/nikhilkumarsingh/YouTubeAPI-Examples/blob/master/4.Channel-Vids.ipynb\n",
    "\n",
    "### READ DOCUMENTATION BEFORE RUNNING\n",
    "\n",
    "#### need to have installed\n",
    "https://developers.google.com/youtube/v3/quickstart/python\n",
    "- Python 2.7 or Python 3.5+\n",
    "- The Google APIs Client Library for Python:\n",
    "    - pip install --upgrade google-api-python-client\n",
    "- The google-auth-oauthlib and google-auth-httplib2 libraries for user authorization.\n",
    "    - pip install --upgrade google-auth-oauthlib google-auth-httplib2\n",
    "    \n",
    "#### YOU NEED TO STORE YOUR CONDA YOUTUBE API KEY IN A SECRET FILE\n",
    "- https://towardsdatascience.com/how-to-hide-your-api-keys-in-python-fb2e1a61b0a0\n",
    "    - keep in mind that you will probably have to remove spaces before and after = symbol \n",
    "    - correct line looks like this\n",
    "        - export YOUTUBE_API_KEY='YOUTUBE-KEY_GOES_HERE'"
   ]
  },
  {
   "cell_type": "code",
   "execution_count": 1,
   "metadata": {},
   "outputs": [],
   "source": [
    "import os\n",
    "from apiclient.discovery import build\n",
    "api_key = os.environ.get(\"YOUTUBE_API_KEY\")\n",
    "youtube = build('youtube', 'v3', developerKey=api_key)"
   ]
  },
  {
   "cell_type": "markdown",
   "metadata": {},
   "source": [
    "## Get all videos from a YouTube channel"
   ]
  },
  {
   "cell_type": "code",
   "execution_count": 2,
   "metadata": {},
   "outputs": [],
   "source": [
    "def get_channel_videos(channel_id):\n",
    "    \n",
    "    # get Uploads playlist id\n",
    "    res = youtube.channels().list(forUsername=channel_id, \n",
    "                                  part='contentDetails').execute()\n",
    "    \n",
    "    playlist_id = res['items'][0]['contentDetails']['relatedPlaylists']['uploads']\n",
    "    \n",
    "    videos = []\n",
    "    next_page_token = None\n",
    "    \n",
    "    while 1:\n",
    "        res = youtube.playlistItems().list(playlistId=playlist_id, \n",
    "                                           part='snippet', \n",
    "                                           maxResults=50,\n",
    "                                           pageToken=next_page_token).execute()\n",
    "        videos += res['items']\n",
    "        next_page_token = res.get('nextPageToken')\n",
    "        \n",
    "        if next_page_token is None:\n",
    "            break\n",
    "            \n",
    "    return videos"
   ]
  },
  {
   "cell_type": "code",
   "execution_count": 3,
   "metadata": {},
   "outputs": [],
   "source": [
    "videos = get_channel_videos('DailyDrivenExotics')"
   ]
  },
  {
   "cell_type": "markdown",
   "metadata": {},
   "source": [
    "## Helper functions to retrieve data from each video"
   ]
  },
  {
   "cell_type": "code",
   "execution_count": 4,
   "metadata": {},
   "outputs": [],
   "source": [
    "def get_item_from_video(video, item=\"\"):\n",
    "    snippet = video[\"snippet\"]\n",
    "    video_title = snippet[\"title\"]\n",
    "    video_id = snippet[\"resourceId\"][\"videoId\"]\n",
    "    \n",
    "    if(item == \"id\"):\n",
    "        return video_id\n",
    "    elif(item == \"title\"):\n",
    "        return video_title\n",
    "    elif(item == \"snippet\"):\n",
    "        return snippet\n",
    "    else:\n",
    "        return 0"
   ]
  },
  {
   "cell_type": "code",
   "execution_count": 5,
   "metadata": {},
   "outputs": [
    {
     "name": "stdout",
     "output_type": "stream",
     "text": [
      "Length: 1122\n"
     ]
    }
   ],
   "source": [
    "print(\"Length: \" + str(len(videos)))"
   ]
  },
  {
   "cell_type": "code",
   "execution_count": 6,
   "metadata": {},
   "outputs": [],
   "source": [
    "# print all titles\n",
    "#for video in videos:\n",
    "    #print(get_item_from_video(video, 'title'))"
   ]
  },
  {
   "cell_type": "code",
   "execution_count": 7,
   "metadata": {},
   "outputs": [],
   "source": [
    "## filter videos based on title [Machine learning, AI, Deep Learning ....]\n",
    "\n",
    "# def filter(videos)\n",
    "# ...."
   ]
  },
  {
   "cell_type": "code",
   "execution_count": null,
   "metadata": {},
   "outputs": [],
   "source": []
  },
  {
   "cell_type": "markdown",
   "metadata": {},
   "source": [
    "## get much more details about each video"
   ]
  },
  {
   "cell_type": "code",
   "execution_count": 8,
   "metadata": {},
   "outputs": [],
   "source": [
    "def helper_get_single_video_details(video_id):\n",
    "    res = youtube.videos().list(\n",
    "        part=\"snippet,contentDetails,statistics\",\n",
    "        id=video_id).execute()\n",
    "    return res\n",
    "\n",
    "def get_videos_details(videos):\n",
    "    videos_detailed = []\n",
    "    for video in videos:\n",
    "        video_id = get_item_from_video(video, 'id')\n",
    "        res = helper_get_single_video_details(video_id)\n",
    "        videos_detailed += res['items']\n",
    "    return videos_detailed"
   ]
  },
  {
   "cell_type": "code",
   "execution_count": 9,
   "metadata": {},
   "outputs": [],
   "source": [
    "videos_detail = get_videos_details(videos)"
   ]
  },
  {
   "cell_type": "code",
   "execution_count": 10,
   "metadata": {},
   "outputs": [
    {
     "data": {
      "text/plain": [
       "1122"
      ]
     },
     "execution_count": 10,
     "metadata": {},
     "output_type": "execute_result"
    }
   ],
   "source": [
    "len(videos_detail)"
   ]
  },
  {
   "cell_type": "code",
   "execution_count": 14,
   "metadata": {},
   "outputs": [
    {
     "data": {
      "text/plain": [
       "{'kind': 'youtube#video',\n",
       " 'etag': 'y3yECg2x9ISml3LZM_n4-xiMXBA',\n",
       " 'id': 'os--J5v_eKw',\n",
       " 'snippet': {'publishedAt': '2021-02-24T15:15:25Z',\n",
       "  'channelId': 'UCj_ARBxhCoF5JxUItcEUs7Q',\n",
       "  'title': 'TWIN TURBO FORD GT PROJECT FOR DAVE?!',\n",
       "  'description': 'Install Raid for Free ✅  IOS/ANDROID/PC: https://clcr.me/Feb2_DDE   and get a special starter pack 💥  Available only for the next 30 days\\n\\nJAPANESE YAKUZA GANGSTERS & R35 GTR POWERED HIACE VAN! *TOKYO NIGHTS* https://youtu.be/yj8LICHvWbM \\nINTRODUCING MY NISSAN SKYLINE R34 GTR Vspec 2! *FAST & FURIOUS ICON* \\nhttps://youtu.be/0t0agC_lQj0 \\nMY NEW R34 GTR GOT $20,000 IN NISMO MODS BUT ENDS IN FAILURE! https://youtu.be/Vt1IVtMZCCc \\nMEET MY NEW 1200 WHP R35 GTR SUPERCAR! *9 months in the making* https://youtu.be/co5K9ywcgYo \\nBUILDING MY R34 GTR TO DESTROY ALL MY SUPERCARS! https://youtu.be/8WluOXUJlss\\nMY FIRST TIME DRIVING IN JAPAN WAS A FERRARI ENZO! \\nhttps://youtu.be/eH5SfF6fqfw \\nJAPANS UNDERGROUND LAMBORGHINI GANG INVADE... \\nhttps://youtu.be/Ixn7NItrDyQ\\nOFF-ROADING A LAMBORGHINI ON JAPANS BEACH HIGHWAY! \\nhttps://youtu.be/YCjLJxlQXcQ',\n",
       "  'thumbnails': {'default': {'url': 'https://i.ytimg.com/vi/os--J5v_eKw/default.jpg',\n",
       "    'width': 120,\n",
       "    'height': 90},\n",
       "   'medium': {'url': 'https://i.ytimg.com/vi/os--J5v_eKw/mqdefault.jpg',\n",
       "    'width': 320,\n",
       "    'height': 180},\n",
       "   'high': {'url': 'https://i.ytimg.com/vi/os--J5v_eKw/hqdefault.jpg',\n",
       "    'width': 480,\n",
       "    'height': 360},\n",
       "   'standard': {'url': 'https://i.ytimg.com/vi/os--J5v_eKw/sddefault.jpg',\n",
       "    'width': 640,\n",
       "    'height': 480},\n",
       "   'maxres': {'url': 'https://i.ytimg.com/vi/os--J5v_eKw/maxresdefault.jpg',\n",
       "    'width': 1280,\n",
       "    'height': 720}},\n",
       "  'channelTitle': 'DailyDrivenExotics',\n",
       "  'tags': ['Daily Driven Exotics',\n",
       "   'Lamborghini',\n",
       "   'Exotic Rental Car',\n",
       "   'Rental Car',\n",
       "   'Lamborghini Huracan',\n",
       "   'Drifting',\n",
       "   'Burnouts',\n",
       "   'Supercar',\n",
       "   'Porsche',\n",
       "   'McLaren',\n",
       "   'Bugatti',\n",
       "   'Pagani',\n",
       "   'Koenigsegg',\n",
       "   'Ferrari',\n",
       "   'Audi R8',\n",
       "   'Mercedes Benz',\n",
       "   'Amg',\n",
       "   'Car Shopping',\n",
       "   'V12'],\n",
       "  'categoryId': '2',\n",
       "  'liveBroadcastContent': 'none',\n",
       "  'localized': {'title': 'TWIN TURBO FORD GT PROJECT FOR DAVE?!',\n",
       "   'description': 'Install Raid for Free ✅  IOS/ANDROID/PC: https://clcr.me/Feb2_DDE   and get a special starter pack 💥  Available only for the next 30 days\\n\\nJAPANESE YAKUZA GANGSTERS & R35 GTR POWERED HIACE VAN! *TOKYO NIGHTS* https://youtu.be/yj8LICHvWbM \\nINTRODUCING MY NISSAN SKYLINE R34 GTR Vspec 2! *FAST & FURIOUS ICON* \\nhttps://youtu.be/0t0agC_lQj0 \\nMY NEW R34 GTR GOT $20,000 IN NISMO MODS BUT ENDS IN FAILURE! https://youtu.be/Vt1IVtMZCCc \\nMEET MY NEW 1200 WHP R35 GTR SUPERCAR! *9 months in the making* https://youtu.be/co5K9ywcgYo \\nBUILDING MY R34 GTR TO DESTROY ALL MY SUPERCARS! https://youtu.be/8WluOXUJlss\\nMY FIRST TIME DRIVING IN JAPAN WAS A FERRARI ENZO! \\nhttps://youtu.be/eH5SfF6fqfw \\nJAPANS UNDERGROUND LAMBORGHINI GANG INVADE... \\nhttps://youtu.be/Ixn7NItrDyQ\\nOFF-ROADING A LAMBORGHINI ON JAPANS BEACH HIGHWAY! \\nhttps://youtu.be/YCjLJxlQXcQ'},\n",
       "  'defaultAudioLanguage': 'en'},\n",
       " 'contentDetails': {'duration': 'PT26M23S',\n",
       "  'dimension': '2d',\n",
       "  'definition': 'hd',\n",
       "  'caption': 'false',\n",
       "  'licensedContent': True,\n",
       "  'contentRating': {},\n",
       "  'projection': 'rectangular'},\n",
       " 'statistics': {'viewCount': '280591',\n",
       "  'likeCount': '19704',\n",
       "  'dislikeCount': '260',\n",
       "  'favoriteCount': '0',\n",
       "  'commentCount': '3241'}}"
      ]
     },
     "execution_count": 14,
     "metadata": {},
     "output_type": "execute_result"
    }
   ],
   "source": [
    "#videos_detail[0]"
   ]
  },
  {
   "cell_type": "code",
   "execution_count": 12,
   "metadata": {},
   "outputs": [
    {
     "name": "stdout",
     "output_type": "stream",
     "text": [
      "Item: 0\n"
     ]
    },
    {
     "ename": "KeyError",
     "evalue": "'resourceId'",
     "output_type": "error",
     "traceback": [
      "\u001b[0;31m---------------------------------------------------------------------------\u001b[0m",
      "\u001b[0;31mKeyError\u001b[0m                                  Traceback (most recent call last)",
      "\u001b[0;32m<ipython-input-12-5ab5d12db0dd>\u001b[0m in \u001b[0;36m<module>\u001b[0;34m\u001b[0m\n\u001b[1;32m     36\u001b[0m         \u001b[0;31m#videos_detailed += res['items']\u001b[0m\u001b[0;34m\u001b[0m\u001b[0;34m\u001b[0m\u001b[0;34m\u001b[0m\u001b[0m\n\u001b[1;32m     37\u001b[0m     \u001b[0;31m#return videos_detailed\u001b[0m\u001b[0;34m\u001b[0m\u001b[0;34m\u001b[0m\u001b[0;34m\u001b[0m\u001b[0m\n\u001b[0;32m---> 38\u001b[0;31m \u001b[0mworking_on_getting_details\u001b[0m\u001b[0;34m(\u001b[0m\u001b[0mvideos\u001b[0m\u001b[0;34m)\u001b[0m\u001b[0;34m\u001b[0m\u001b[0;34m\u001b[0m\u001b[0m\n\u001b[0m",
      "\u001b[0;32m<ipython-input-12-5ab5d12db0dd>\u001b[0m in \u001b[0;36mworking_on_getting_details\u001b[0;34m(videos)\u001b[0m\n\u001b[1;32m     10\u001b[0m         \u001b[0mres\u001b[0m \u001b[0;34m=\u001b[0m \u001b[0mhelper_get_single_video_details\u001b[0m\u001b[0;34m(\u001b[0m\u001b[0mvideo_id\u001b[0m\u001b[0;34m)\u001b[0m\u001b[0;34m\u001b[0m\u001b[0;34m\u001b[0m\u001b[0m\n\u001b[1;32m     11\u001b[0m         \u001b[0mitems\u001b[0m \u001b[0;34m=\u001b[0m \u001b[0mres\u001b[0m\u001b[0;34m[\u001b[0m\u001b[0;34m'items'\u001b[0m\u001b[0;34m]\u001b[0m\u001b[0;34m[\u001b[0m\u001b[0;36m0\u001b[0m\u001b[0;34m]\u001b[0m\u001b[0;34m\u001b[0m\u001b[0;34m\u001b[0m\u001b[0m\n\u001b[0;32m---> 12\u001b[0;31m         \u001b[0msnip\u001b[0m \u001b[0;34m=\u001b[0m \u001b[0mget_item_from_video\u001b[0m\u001b[0;34m(\u001b[0m\u001b[0mitems\u001b[0m\u001b[0;34m,\u001b[0m \u001b[0;34m'snippet'\u001b[0m\u001b[0;34m)\u001b[0m\u001b[0;34m\u001b[0m\u001b[0;34m\u001b[0m\u001b[0m\n\u001b[0m\u001b[1;32m     13\u001b[0m \u001b[0;34m\u001b[0m\u001b[0m\n\u001b[1;32m     14\u001b[0m         \u001b[0mkind\u001b[0m \u001b[0;34m=\u001b[0m \u001b[0mitems\u001b[0m\u001b[0;34m[\u001b[0m\u001b[0;34m'kind'\u001b[0m\u001b[0;34m]\u001b[0m\u001b[0;34m\u001b[0m\u001b[0;34m\u001b[0m\u001b[0m\n",
      "\u001b[0;32m<ipython-input-4-34a4afb3668d>\u001b[0m in \u001b[0;36mget_item_from_video\u001b[0;34m(video, item)\u001b[0m\n\u001b[1;32m      2\u001b[0m     \u001b[0msnippet\u001b[0m \u001b[0;34m=\u001b[0m \u001b[0mvideo\u001b[0m\u001b[0;34m[\u001b[0m\u001b[0;34m\"snippet\"\u001b[0m\u001b[0;34m]\u001b[0m\u001b[0;34m\u001b[0m\u001b[0;34m\u001b[0m\u001b[0m\n\u001b[1;32m      3\u001b[0m     \u001b[0mvideo_title\u001b[0m \u001b[0;34m=\u001b[0m \u001b[0msnippet\u001b[0m\u001b[0;34m[\u001b[0m\u001b[0;34m\"title\"\u001b[0m\u001b[0;34m]\u001b[0m\u001b[0;34m\u001b[0m\u001b[0;34m\u001b[0m\u001b[0m\n\u001b[0;32m----> 4\u001b[0;31m     \u001b[0mvideo_id\u001b[0m \u001b[0;34m=\u001b[0m \u001b[0msnippet\u001b[0m\u001b[0;34m[\u001b[0m\u001b[0;34m\"resourceId\"\u001b[0m\u001b[0;34m]\u001b[0m\u001b[0;34m[\u001b[0m\u001b[0;34m\"videoId\"\u001b[0m\u001b[0;34m]\u001b[0m\u001b[0;34m\u001b[0m\u001b[0;34m\u001b[0m\u001b[0m\n\u001b[0m\u001b[1;32m      5\u001b[0m \u001b[0;34m\u001b[0m\u001b[0m\n\u001b[1;32m      6\u001b[0m     \u001b[0;32mif\u001b[0m\u001b[0;34m(\u001b[0m\u001b[0mitem\u001b[0m \u001b[0;34m==\u001b[0m \u001b[0;34m\"id\"\u001b[0m\u001b[0;34m)\u001b[0m\u001b[0;34m:\u001b[0m\u001b[0;34m\u001b[0m\u001b[0;34m\u001b[0m\u001b[0m\n",
      "\u001b[0;31mKeyError\u001b[0m: 'resourceId'"
     ]
    }
   ],
   "source": [
    "dicti = {}\n",
    "def working_on_getting_details(videos):\n",
    "    #videos_detailed = []\n",
    "    \n",
    "    for video in range(0,2):\n",
    "        \n",
    "        video_id = get_item_from_video(videos[video], 'id')\n",
    "        res = helper_get_single_video_details(video_id)\n",
    "        items = res['items'][0]\n",
    "        snip = get_item_from_video(items, 'snippet')\n",
    "        \n",
    "        ## all keys in array\n",
    "        kind = items['kind']\n",
    "        etag = items['etag']\n",
    "        video_id = items['id']\n",
    "        snippet = items['snippet']\n",
    "        contentDetails = items['contentDetails']\n",
    "        statistics = items['statistics']\n",
    "        \n",
    "        print(\"Item: \" + str(video))\n",
    "        print(snippet.keys())\n",
    "        print(snip)\n",
    "        print(\"----------\")\n",
    "        print(snippet)\n",
    "        \n",
    "        ## keeping\n",
    "        #video_id\n",
    "        #snippet\n",
    "        #statistics\n",
    "        \n",
    "        print(\"\\n\")\n",
    "        print(\"\\n\")\n",
    "        \n",
    "        \n",
    "        #videos_detailed += res['items']\n",
    "    #return videos_detailed\n",
    "working_on_getting_details(videos)"
   ]
  },
  {
   "cell_type": "code",
   "execution_count": null,
   "metadata": {},
   "outputs": [],
   "source": []
  },
  {
   "cell_type": "code",
   "execution_count": null,
   "metadata": {},
   "outputs": [],
   "source": []
  },
  {
   "cell_type": "code",
   "execution_count": null,
   "metadata": {},
   "outputs": [],
   "source": []
  },
  {
   "cell_type": "code",
   "execution_count": null,
   "metadata": {},
   "outputs": [],
   "source": []
  },
  {
   "cell_type": "code",
   "execution_count": null,
   "metadata": {},
   "outputs": [],
   "source": []
  },
  {
   "cell_type": "code",
   "execution_count": null,
   "metadata": {},
   "outputs": [],
   "source": []
  },
  {
   "cell_type": "code",
   "execution_count": null,
   "metadata": {},
   "outputs": [],
   "source": []
  },
  {
   "cell_type": "code",
   "execution_count": null,
   "metadata": {},
   "outputs": [],
   "source": []
  }
 ],
 "metadata": {
  "kernelspec": {
   "display_name": "Python 3",
   "language": "python",
   "name": "python3"
  },
  "language_info": {
   "codemirror_mode": {
    "name": "ipython",
    "version": 3
   },
   "file_extension": ".py",
   "mimetype": "text/x-python",
   "name": "python",
   "nbconvert_exporter": "python",
   "pygments_lexer": "ipython3",
   "version": "3.8.5"
  }
 },
 "nbformat": 4,
 "nbformat_minor": 4
}
