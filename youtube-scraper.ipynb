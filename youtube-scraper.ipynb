{
 "cells": [
  {
   "cell_type": "markdown",
   "metadata": {},
   "source": [
    "### ORIGINAL CODE FROM\n",
    "https://github.com/nikhilkumarsingh/YouTubeAPI-Examples/blob/master/4.Channel-Vids.ipynb\n",
    "\n",
    "### READ DOCUMENTATION BEFORE RUNNING\n",
    "\n",
    "#### need to have installed\n",
    "https://developers.google.com/youtube/v3/quickstart/python\n",
    "- Python 2.7 or Python 3.5+\n",
    "- The Google APIs Client Library for Python:\n",
    "    - pip install --upgrade google-api-python-client\n",
    "- The google-auth-oauthlib and google-auth-httplib2 libraries for user authorization.\n",
    "    - pip install --upgrade google-auth-oauthlib google-auth-httplib2\n",
    "    \n",
    "#### YOU NEED TO STORE YOUR CONDA YOUTUBE API KEY IN A SECRET FILE\n",
    "- https://towardsdatascience.com/how-to-hide-your-api-keys-in-python-fb2e1a61b0a0\n",
    "    - keep in mind that you will probably have to remove spaces before and after = symbol \n",
    "    - correct line looks like this\n",
    "        - export YOUTUBE_API_KEY='YOUTUBE-KEY_GOES_HERE'"
   ]
  },
  {
   "cell_type": "code",
   "execution_count": 1,
   "metadata": {},
   "outputs": [],
   "source": [
    "import os\n",
    "from apiclient.discovery import build\n",
    "api_key = os.environ.get(\"YOUTUBE_API_KEY\")\n",
    "youtube = build('youtube', 'v3', developerKey=api_key)"
   ]
  },
  {
   "cell_type": "code",
   "execution_count": 2,
   "metadata": {},
   "outputs": [],
   "source": [
    "def get_channel_videos(channel_id):\n",
    "    \n",
    "    # get Uploads playlist id\n",
    "    res = youtube.channels().list(forUsername=channel_id, \n",
    "                                  part='contentDetails').execute()\n",
    "    \n",
    "    playlist_id = res['items'][0]['contentDetails']['relatedPlaylists']['uploads']\n",
    "    \n",
    "    videos = []\n",
    "    next_page_token = None\n",
    "    \n",
    "    while 1:\n",
    "        res = youtube.playlistItems().list(playlistId=playlist_id, \n",
    "                                           part='snippet', \n",
    "                                           maxResults=50,\n",
    "                                           pageToken=next_page_token).execute()\n",
    "        videos += res['items']\n",
    "        next_page_token = res.get('nextPageToken')\n",
    "        \n",
    "        if next_page_token is None:\n",
    "            break\n",
    "    \n",
    "    return videos"
   ]
  },
  {
   "cell_type": "code",
   "execution_count": 3,
   "metadata": {},
   "outputs": [],
   "source": [
    "## filter videos based on title [Machine learning, AI, Deep Learning ....]\n",
    "\n",
    "# def filter(videos)\n",
    "# ...."
   ]
  },
  {
   "cell_type": "code",
   "execution_count": 30,
   "metadata": {
    "scrolled": false
   },
   "outputs": [],
   "source": [
    "def get_single_video_details(video_id):\n",
    "    res = youtube.videos().list(\n",
    "        part=\"snippet,contentDetails,statistics\",\n",
    "        id=video_id).execute()\n",
    "    return res\n",
    "\n",
    "def get_item_from_video(videos, number, item=\"\"):\n",
    "    snippet = videos[number][\"snippet\"]\n",
    "    video_title = snippet[\"title\"]\n",
    "    video_id = snippet[\"resourceId\"][\"videoId\"]\n",
    "    \n",
    "    if(item == \"video_id\"):\n",
    "        return video_id\n",
    "    if(item == \"video_title\"):\n",
    "        return video_title\n",
    "    else:\n",
    "        return 0\n",
    "    #print(snippet)\n",
    "    #print(\"\\n\")\n",
    "\n",
    "def get_videos_details(videos):\n",
    "    videos_detailed = []\n",
    "    \n",
    "    for item in range(len(videos)):\n",
    "        snippet = videos[item][\"snippet\"]\n",
    "        video_id = snippet[\"resourceId\"][\"videoId\"]\n",
    "        res = get_single_video_details(video_id)\n",
    "        videos_detailed += res['items']\n",
    "    return videos_detailed"
   ]
  },
  {
   "cell_type": "code",
   "execution_count": null,
   "metadata": {},
   "outputs": [],
   "source": [
    "videos = get_channel_videos('DailyDrivenExotics')\n",
    "videos_detail = get_videos_details(videos)"
   ]
  },
  {
   "cell_type": "code",
   "execution_count": null,
   "metadata": {},
   "outputs": [],
   "source": [
    "print(get_item_from_video(videos, 0, \"video_title\"))\n",
    "print(get_item_from_video(videos, 1, \"video_title\"))"
   ]
  },
  {
   "cell_type": "code",
   "execution_count": 6,
   "metadata": {},
   "outputs": [
    {
     "data": {
      "text/plain": [
       "2"
      ]
     },
     "execution_count": 6,
     "metadata": {},
     "output_type": "execute_result"
    }
   ],
   "source": [
    "len(videos_detail)"
   ]
  },
  {
   "cell_type": "code",
   "execution_count": 7,
   "metadata": {},
   "outputs": [
    {
     "data": {
      "text/plain": [
       "1122"
      ]
     },
     "execution_count": 7,
     "metadata": {},
     "output_type": "execute_result"
    }
   ],
   "source": [
    "len(videos)"
   ]
  },
  {
   "cell_type": "code",
   "execution_count": null,
   "metadata": {},
   "outputs": [],
   "source": [
    "for video in videos:\n",
    "    #print(video['snippet']['title'])\n",
    "    print(video['snippet']['title'])"
   ]
  },
  {
   "cell_type": "code",
   "execution_count": null,
   "metadata": {},
   "outputs": [],
   "source": [
    "video.keys()"
   ]
  },
  {
   "cell_type": "code",
   "execution_count": null,
   "metadata": {},
   "outputs": [],
   "source": [
    "videos[0]"
   ]
  },
  {
   "cell_type": "code",
   "execution_count": null,
   "metadata": {},
   "outputs": [],
   "source": []
  }
 ],
 "metadata": {
  "kernelspec": {
   "display_name": "Python 3",
   "language": "python",
   "name": "python3"
  },
  "language_info": {
   "codemirror_mode": {
    "name": "ipython",
    "version": 3
   },
   "file_extension": ".py",
   "mimetype": "text/x-python",
   "name": "python",
   "nbconvert_exporter": "python",
   "pygments_lexer": "ipython3",
   "version": "3.8.5"
  }
 },
 "nbformat": 4,
 "nbformat_minor": 4
}
