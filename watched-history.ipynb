{
 "cells": [
  {
   "cell_type": "code",
   "execution_count": 1,
   "metadata": {},
   "outputs": [
    {
     "name": "stdout",
     "output_type": "stream",
     "text": [
      "['Sarah Peters', 'Sarah Hannah', 'Joanna Stefánsdóttir', 'Sarah Carly', 'Alexandra Hannah', 'Emily Stefánsdóttir', 'Joanna Baldursdóttir', 'Joanna Hannah', 'Joanna Peters', 'Emily Carly', 'Alexandra Baldursdóttir', 'Joanna Carly', 'Sarah Stefánsdóttir', 'Alexandra Peters', 'Emily Peters', 'Alexandra Carly', 'Emily Hannah', 'Sarah Baldursdóttir', 'Emily Baldursdóttir', 'Alexandra Stefánsdóttir']\n"
     ]
    }
   ],
   "source": [
    "import pickle\n",
    "names = pickle.load(open(\"names.pickle\",\"rb\"))\n",
    "print(names)"
   ]
  }
 ],
 "metadata": {
  "kernelspec": {
   "display_name": "Python 3",
   "language": "python",
   "name": "python3"
  },
  "language_info": {
   "codemirror_mode": {
    "name": "ipython",
    "version": 3
   },
   "file_extension": ".py",
   "mimetype": "text/x-python",
   "name": "python",
   "nbconvert_exporter": "python",
   "pygments_lexer": "ipython3",
   "version": "3.8.5"
  }
 },
 "nbformat": 4,
 "nbformat_minor": 4
}
