{
 "cells": [
  {
   "cell_type": "code",
   "execution_count": 2,
   "metadata": {},
   "outputs": [],
   "source": [
    "import pickle\n",
    "from ipynb.fs.defs.youtube_scraper import get_item_from_video, display_keys\n",
    "import random\n",
    "from collections import defaultdict"
   ]
  },
  {
   "cell_type": "code",
   "execution_count": 3,
   "metadata": {},
   "outputs": [],
   "source": [
    "names = pickle.load(open(\"names.pickle\",\"rb\"))\n",
    "videos = pickle.load(open(\"videos.pickle\", \"rb\"))"
   ]
  },
  {
   "cell_type": "code",
   "execution_count": 7,
   "metadata": {},
   "outputs": [
    {
     "name": "stdout",
     "output_type": "stream",
     "text": [
      "Celebrities Control My Life for 24 Hours! *Extreme*\n",
      "[871899, 5607446, 3811463, 9522326, 4604827]\n",
      "SNEAKING Into Super Bowl 2021!\n",
      "[7869359, 5629379, 7208294, 6745773, 2270091]\n",
      "I Let a Monkey Invest All My Money. *Crypto*\n",
      "[9015166, 5569827, 9078555, 6031681, 6413492]\n",
      "I Bought The World's Most Dangerous Flight\n",
      "[5574331, 8816942, 8096152, 4576574, 2482332]\n",
      "Stuck on an Island until 1,000,000 Subscribers\n",
      "[3818649, 5440447, 6843192, 3732416, 9078838]\n"
     ]
    }
   ],
   "source": [
    "watched_history = defaultdict(dict)\n",
    "\n",
    "# Now I am going to match video views and video likes to all people\n",
    "_video_view_counter = 0\n",
    "_video_like_counter = 0\n",
    "\n",
    "for video in videos[:][0:5]:\n",
    "    #random.randint(0, len(number_persons_watched_video))\n",
    "    statistics = get_item_from_video(video, \"statistics\")\n",
    "    \n",
    "    video_id = get_item_from_video(video, \"id\")\n",
    "    video_title = get_item_from_video(video, \"title\")\n",
    "    video_views = int(statistics[\"viewCount\"])\n",
    "    video_likes = int(statistics['likeCount'])\n",
    "    #print(int(int(video_views)/1000))\n",
    "    \n",
    "    random_users = random.sample(range(0, len(names)), video_views)\n",
    "    #print(video_title)\n",
    "    #print(random_users[:][0:5])\n",
    "    \n",
    "    for user in random_users[:][0:5]:\n",
    "        names_split = names[user].split(\" \")\n",
    "        user_id = names_split[0]\n",
    "        user_first_name = names_split[1]\n",
    "        user_last_name = names_split[2]\n",
    "        user_gender = names_split[3]\n",
    "        \n",
    "        #print(user_id)\n",
    "        \n",
    "        if _video_view_counter <=  video_views:\n",
    "            person_dict = {}\n",
    "            if _video_like_counter < video_likes:\n",
    "                person_dict['liked'] = 1\n",
    "                _video_like_counter += 1\n",
    "            else:\n",
    "                person_dict['liked'] = 0\n",
    "            person_dict['disliked'] = 0\n",
    "            \n",
    "            # if video_id exists in watched_history\n",
    "            if video_id in watched_history.keys():\n",
    "                # if user exists in watched_history we append his values\n",
    "                if user_id in watched_history[video_id].keys():\n",
    "                    break\n",
    "                # if user does not exists in watched_history we create him\n",
    "                else:\n",
    "                    watched_history[video_id][user_id] = [person_dict]\n",
    "            # if video_id does not exist in watched_history, we create it\n",
    "            else:\n",
    "                watched_history[video_id][user_id] = [person_dict]\n",
    "            \n",
    "            # update that this video was watched +1 time by person\n",
    "            _video_view_counter += 1\n",
    "    \n",
    "    "
   ]
  },
  {
   "cell_type": "code",
   "execution_count": 9,
   "metadata": {},
   "outputs": [
    {
     "name": "stdout",
     "output_type": "stream",
     "text": [
      "dict_keys(['QQGm9DLdgVo', 'TlxP5R2afX0', 'BEdagiy8RPY', 'vsEWRNsqdiA', 'A_Vq7ab38hs'])\n"
     ]
    }
   ],
   "source": [
    "print(watched_history.keys())"
   ]
  },
  {
   "cell_type": "code",
   "execution_count": null,
   "metadata": {},
   "outputs": [],
   "source": []
  }
 ],
 "metadata": {
  "kernelspec": {
   "display_name": "Python 3",
   "language": "python",
   "name": "python3"
  },
  "language_info": {
   "codemirror_mode": {
    "name": "ipython",
    "version": 3
   },
   "file_extension": ".py",
   "mimetype": "text/x-python",
   "name": "python",
   "nbconvert_exporter": "python",
   "pygments_lexer": "ipython3",
   "version": "3.8.5"
  }
 },
 "nbformat": 4,
 "nbformat_minor": 4
}
