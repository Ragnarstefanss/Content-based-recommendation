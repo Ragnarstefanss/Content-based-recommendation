{
 "cells": [
  {
   "cell_type": "code",
   "execution_count": 16,
   "metadata": {},
   "outputs": [],
   "source": [
    "import pickle\n",
    "from ipynb.fs.defs.youtube_scraper import get_item_from_video, display_keys"
   ]
  },
  {
   "cell_type": "code",
   "execution_count": 6,
   "metadata": {},
   "outputs": [],
   "source": [
    "names = pickle.load(open(\"names.pickle\",\"rb\"))\n",
    "videos = pickle.load(open(\"videos.pickle\", \"rb\"))"
   ]
  },
  {
   "cell_type": "code",
   "execution_count": 17,
   "metadata": {},
   "outputs": [
    {
     "name": "stdout",
     "output_type": "stream",
     "text": [
      "dict_keys(['viewCount', 'likeCount', 'dislikeCount', 'favoriteCount', 'commentCount'])\n"
     ]
    }
   ],
   "source": [
    "display_keys(videos[0], \"statistics\")"
   ]
  },
  {
   "cell_type": "code",
   "execution_count": 21,
   "metadata": {},
   "outputs": [
    {
     "name": "stdout",
     "output_type": "stream",
     "text": [
      "Celebrities Control My Life for 24 Hours! *Extreme*\n",
      "{'viewCount': '531457', 'likeCount': '45629', 'dislikeCount': '671', 'favoriteCount': '0', 'commentCount': '3803'}\n",
      "531457\n",
      "45629\n",
      "671\n"
     ]
    }
   ],
   "source": [
    "video_title = get_item_from_video(videos[0], \"title\")\n",
    "video_statistics = get_item_from_video(videos[0], \"statistics\")\n",
    "video_views = video_statistics[\"viewCount\"]\n",
    "video_likes = video_statistics[\"likeCount\"]\n",
    "video_dislikes = video_statistics[\"dislikeCount\"]\n",
    "\n",
    "print(video_title)\n",
    "print(video_statistics)\n",
    "print(video_views)\n",
    "print(video_likes)\n",
    "print(video_dislikes)"
   ]
  }
 ],
 "metadata": {
  "kernelspec": {
   "display_name": "Python 3",
   "language": "python",
   "name": "python3"
  },
  "language_info": {
   "codemirror_mode": {
    "name": "ipython",
    "version": 3
   },
   "file_extension": ".py",
   "mimetype": "text/x-python",
   "name": "python",
   "nbconvert_exporter": "python",
   "pygments_lexer": "ipython3",
   "version": "3.8.5"
  }
 },
 "nbformat": 4,
 "nbformat_minor": 4
}
