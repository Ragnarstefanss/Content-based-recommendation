{
 "cells": [
  {
   "cell_type": "code",
   "execution_count": null,
   "metadata": {},
   "outputs": [],
   "source": [
    "# -*- coding: utf-8 -*-\n",
    "\n",
    "# Sample Python code for youtube.channels.list\n",
    "# See instructions for running these code samples locally:\n",
    "# https://developers.google.com/explorer-help/guides/code_samples#python\n",
    "\n",
    "import os\n",
    "\n",
    "import google_auth_oauthlib.flow\n",
    "import googleapiclient.discovery\n",
    "import googleapiclient.errors\n",
    "\n",
    "scopes = [\"https://www.googleapis.com/auth/youtube.readonly\"]\n",
    "\n",
    "def main():\n",
    "    # Disable OAuthlib's HTTPS verification when running locally.\n",
    "    # *DO NOT* leave this option enabled in production.\n",
    "    os.environ[\"OAUTHLIB_INSECURE_TRANSPORT\"] = \"1\"\n",
    "\n",
    "    api_service_name = \"youtube\"\n",
    "    api_version = \"v3\"\n",
    "    client_secrets_file = \"YOUR_CLIENT_SECRET_FILE.json\"\n",
    "\n",
    "    # Get credentials and create an API client\n",
    "    flow = google_auth_oauthlib.flow.InstalledAppFlow.from_client_secrets_file(\n",
    "        client_secrets_file, scopes)\n",
    "    credentials = flow.run_console()\n",
    "    youtube = googleapiclient.discovery.build(\n",
    "        api_service_name, api_version, credentials=credentials)\n",
    "\n",
    "    request = youtube.channels().list(\n",
    "        part=\"snippet,contentDetails,statistics\",\n",
    "        forUsername=\"ragnarsmedia\"\n",
    "    )\n",
    "    response = request.execute()\n",
    "\n",
    "    print(response)\n",
    "\n",
    "if __name__ == \"__main__\":\n",
    "    main()\n"
   ]
  },
  {
   "cell_type": "markdown",
   "metadata": {},
   "source": []
  },
  {
   "cell_type": "code",
   "execution_count": 3,
   "metadata": {},
   "outputs": [
    {
     "ename": "SyntaxError",
     "evalue": "unexpected EOF while parsing (<ipython-input-3-352e7b8300e9>, line 1)",
     "output_type": "error",
     "traceback": [
      "\u001b[0;36m  File \u001b[0;32m\"<ipython-input-3-352e7b8300e9>\"\u001b[0;36m, line \u001b[0;32m1\u001b[0m\n\u001b[0;31m    {'kind': 'youtube#playlistItemListResponse', 'etag': 'M-_tbXzJPrlZe38JnVQltUeKIZs', 'nextPageToken': 'CDIQAA', 'items': [{'kind': 'youtube#playlistItem', 'etag': 'iBp_Yp3lrqXW4KfQ93jga7gQhfA', 'id': 'VVVqX0FSQnhoQ29GNUp4VUl0Y0VVczdRLm9zLS1KNXZfZUt3',\u001b[0m\n\u001b[0m                                                                                                                                                                                                                                                               ^\u001b[0m\n\u001b[0;31mSyntaxError\u001b[0m\u001b[0;31m:\u001b[0m unexpected EOF while parsing\n"
     ]
    }
   ],
   "source": [
    "{'kind': 'youtube#playlistItemListResponse', 'etag': 'M-_tbXzJPrlZe38JnVQltUeKIZs', 'nextPageToken': 'CDIQAA', 'items': [{'kind': 'youtube#playlistItem', 'etag': 'iBp_Yp3lrqXW4KfQ93jga7gQhfA', 'id': 'VVVqX0FSQnhoQ29GNUp4VUl0Y0VVczdRLm9zLS1KNXZfZUt3', "
   ]
  },
  {
   "cell_type": "code",
   "execution_count": 4,
   "metadata": {},
   "outputs": [
    {
     "ename": "SyntaxError",
     "evalue": "EOL while scanning string literal (<ipython-input-4-94ecbb1ded7e>, line 1)",
     "output_type": "error",
     "traceback": [
      "\u001b[0;36m  File \u001b[0;32m\"<ipython-input-4-94ecbb1ded7e>\"\u001b[0;36m, line \u001b[0;32m1\u001b[0m\n\u001b[0;31m    {'kind': 'youtube#playlistItemListResponse', 'etag': '0fZ1ZaQro-Eo5rEwfmhgp5A-yWc', 'nextPageToken': 'CGQQAA', 'prevPageToken': 'CDIQAQ', 'items': [{'kind': 'youtube#playlistItem', 'etag': 'KInMliLtp3MeZZWoK4hCUkuh9OI', 'id': 'VVVqX0FSQnhoQ29GNUp4VUl0Y0VVczdRLlBtLVBtY2ZTQ2JB', 'snippet': {'publishedAt': '2020-11-08T04:55:53Z', 'channelId': 'UCj_ARBxhCoF5JxUItcEUs7Q', 'title': 'CARBON FERRARI RACE PARTS DELIVERED!\u001b[0m\n\u001b[0m                                                                                                                                                                                                                                                                                                                                                                                                                                    ^\u001b[0m\n\u001b[0;31mSyntaxError\u001b[0m\u001b[0;31m:\u001b[0m EOL while scanning string literal\n"
     ]
    }
   ],
   "source": [
    "{'kind': 'youtube#playlistItemListResponse', 'etag': '0fZ1ZaQro-Eo5rEwfmhgp5A-yWc', 'nextPageToken': 'CGQQAA', 'prevPageToken': 'CDIQAQ', 'items': [{'kind': 'youtube#playlistItem', 'etag': 'KInMliLtp3MeZZWoK4hCUkuh9OI', 'id': 'VVVqX0FSQnhoQ29GNUp4VUl0Y0VVczdRLlBtLVBtY2ZTQ2JB', 'snippet': {'publishedAt': '2020-11-08T04:55:53Z', 'channelId': 'UCj_ARBxhCoF5JxUItcEUs7Q', 'title': 'CARBON FERRARI RACE PARTS DELIVERED!"
   ]
  }
 ],
 "metadata": {
  "kernelspec": {
   "display_name": "Python 3",
   "language": "python",
   "name": "python3"
  },
  "language_info": {
   "codemirror_mode": {
    "name": "ipython",
    "version": 3
   },
   "file_extension": ".py",
   "mimetype": "text/x-python",
   "name": "python",
   "nbconvert_exporter": "python",
   "pygments_lexer": "ipython3",
   "version": "3.8.5"
  }
 },
 "nbformat": 4,
 "nbformat_minor": 4
}
