{
 "cells": [
  {
   "cell_type": "code",
   "execution_count": null,
   "metadata": {},
   "outputs": [],
   "source": [
    "import sqlite3, itertools\n",
    "from sqlite3 import dbapi2 as sqlite\n",
    "import string, re, os\n",
    "mesh_hash = {}\n",
    "entry = ()\n",
    "mesh_hash[\"Fred Mertz\"] = \"Neighbor\"\n",
    "mesh_hash[\"Ethel Mertz\"] = \"Neighbor\"\n",
    "mesh_hash[\"Lucy Ricardo\"] = \"Star\"\n",
    "mesh_hash[\"Ricky Ricardo\"] = \"Band leader\"\n",
    "con=sqlite.connect('test1.db')\n",
    "cur=con.cursor()\n",
    "cur.executescript(\"\"\"\n",
    "create table lucytable\n",
    "(\n",
    "name varchar(64),\n",
    "term varchar(64)\n",
    ");\n",
    "\"\"\")\n",
    "for key,value in mesh_hash.items():\n",
    "entry = (key, value)\n",
    "cur.execute(\"insert into lucytable (name, term) values (?, ?)\",\n",
    "entry)\n",
    "con.commit()"
   ]
  },
  {
   "cell_type": "markdown",
   "metadata": {},
   "source": [
    "         sqlite_read.py"
   ]
  },
  {
   "cell_type": "code",
   "execution_count": null,
   "metadata": {},
   "outputs": [],
   "source": [
    "import sqlite3\n",
    "from sqlite3 import dbapi2 as sqlite\n",
    "import string, re, os\n",
    "con=sqlite.connect('test1.db')\n",
    "cur=con.cursor()\n",
    "cur.execute(\"select * from lucytable\")\n",
    "for row in cur:\n",
    "print(row[0], row[1])"
   ]
  }
 ],
 "metadata": {
  "kernelspec": {
   "display_name": "Python 3",
   "language": "python",
   "name": "python3"
  },
  "language_info": {
   "codemirror_mode": {
    "name": "ipython",
    "version": 3
   },
   "file_extension": ".py",
   "mimetype": "text/x-python",
   "name": "python",
   "nbconvert_exporter": "python",
   "pygments_lexer": "ipython3",
   "version": "3.8.5"
  }
 },
 "nbformat": 4,
 "nbformat_minor": 4
}
