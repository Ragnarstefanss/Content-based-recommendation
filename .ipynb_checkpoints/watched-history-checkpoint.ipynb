{
 "cells": [
  {
   "cell_type": "code",
   "execution_count": 1,
   "metadata": {},
   "outputs": [],
   "source": [
    "import pickle\n",
    "from ipynb.fs.defs.youtube_scraper import get_item_from_video, display_keys\n",
    "import random\n",
    "from collections import defaultdict"
   ]
  },
  {
   "cell_type": "code",
   "execution_count": 2,
   "metadata": {},
   "outputs": [],
   "source": [
    "names = pickle.load(open(\"names.pickle\",\"rb\"))\n",
    "videos = pickle.load(open(\"videos.pickle\", \"rb\"))"
   ]
  },
  {
   "cell_type": "code",
   "execution_count": null,
   "metadata": {},
   "outputs": [],
   "source": []
  },
  {
   "cell_type": "code",
   "execution_count": 3,
   "metadata": {},
   "outputs": [
    {
     "name": "stdout",
     "output_type": "stream",
     "text": [
      "QQGm9DLdgVo\n",
      "Celebrities Control My Life for 24 Hours! *Extreme*\n",
      "{'viewCount': '531667', 'likeCount': '45654', 'dislikeCount': '671', 'favoriteCount': '0', 'commentCount': '3803'}\n",
      "531667\n",
      "45654\n",
      "671\n"
     ]
    }
   ],
   "source": [
    "#display_keys(videos[0], \"statistics\")\n",
    "video_id = get_item_from_video(videos[0], \"id\")\n",
    "video_title = get_item_from_video(videos[0], \"title\")\n",
    "video_statistics = get_item_from_video(videos[0], \"statistics\")\n",
    "video_views = video_statistics[\"viewCount\"]\n",
    "video_likes = video_statistics[\"likeCount\"]\n",
    "video_dislikes = video_statistics[\"dislikeCount\"]\n",
    "\n",
    "print(video_id)\n",
    "print(video_title)\n",
    "print(video_statistics)\n",
    "print(video_views)\n",
    "print(video_likes)\n",
    "print(video_dislikes)"
   ]
  },
  {
   "cell_type": "code",
   "execution_count": 4,
   "metadata": {},
   "outputs": [
    {
     "name": "stdout",
     "output_type": "stream",
     "text": [
      "['0 Darrell Hernandez Male', '1 Misty Graham Female', '2 Andrea Miller Female', '3 Mitchell Evans Male', '4 Charlie Hayes Male']\n"
     ]
    }
   ],
   "source": [
    "five_people = names[:][0:5]\n",
    "print(five_people)\n",
    "#len(names)"
   ]
  },
  {
   "cell_type": "code",
   "execution_count": 8,
   "metadata": {},
   "outputs": [],
   "source": [
    "for i in range(len(names)):\n",
    "    new = names[i].split()\n",
    "    "
   ]
  },
  {
   "cell_type": "code",
   "execution_count": 17,
   "metadata": {},
   "outputs": [],
   "source": [
    "watched_history = defaultdict(dict)\n",
    "\n",
    "# Now I am going to match video views and video likes to all people\n",
    "_video_view_counter = 0\n",
    "_video_like_counter = 0\n",
    "\n",
    "for video in videos:\n",
    "    #random.randint(0, len(number_persons_watched_video))\n",
    "    statistics = get_item_from_video(video, \"statistics\")\n",
    "    \n",
    "    video_id = get_item_from_video(video, \"id\")\n",
    "    video_title = get_item_from_video(video, \"title\")\n",
    "    video_views = int(statistics[\"viewCount\"])\n",
    "    #print(int(int(video_views)/1000))\n",
    "    \n",
    "    random_users = random.sample(range(0, len(names)), video_views)\n",
    "    #print(video_title)\n",
    "    #print(random_users[:][0:5])\n",
    "\n",
    "    for user in random_users:\n",
    "        names_split = names[user].split(\" \")\n",
    "        user_id = names_split[0]\n",
    "        user_first_name = names_split[1]\n",
    "        user_last_name = names_split[2]\n",
    "        user_gender = names_split[3]\n",
    "        \n",
    "        #print(user_id)\n",
    "        \n",
    "        if _video_view_counter <=  video_views:\n",
    "            person_dict = {}\n",
    "            person_dict['liked'] = 1\n",
    "            person_dict['disliked'] = 0\n",
    "            \n",
    "            # if video_id exists in watched_history\n",
    "            if video_id in watched_history.keys():\n",
    "                # if user exists in watched_history we append his values\n",
    "                if user_id in watched_history[video_id].keys():\n",
    "                    break\n",
    "                # if user does not exists in watched_history we create him\n",
    "                else:\n",
    "                    watched_history[video_id][user_id] = [person_dict]\n",
    "            # if video_id does not exist in watched_history, we create it\n",
    "            else:\n",
    "                watched_history[video_id][user_id] = [person_dict]\n",
    "            \n",
    "            # update that this video was watched +1 time by person\n",
    "            _video_view_counter += 1\n"
   ]
  },
  {
   "cell_type": "code",
   "execution_count": 19,
   "metadata": {},
   "outputs": [
    {
     "name": "stdout",
     "output_type": "stream",
     "text": [
      "dict_keys(['QQGm9DLdgVo', 'TlxP5R2afX0'])\n"
     ]
    }
   ],
   "source": [
    "print(watched_history.keys())"
   ]
  }
 ],
 "metadata": {
  "kernelspec": {
   "display_name": "Python 3",
   "language": "python",
   "name": "python3"
  },
  "language_info": {
   "codemirror_mode": {
    "name": "ipython",
    "version": 3
   },
   "file_extension": ".py",
   "mimetype": "text/x-python",
   "name": "python",
   "nbconvert_exporter": "python",
   "pygments_lexer": "ipython3",
   "version": "3.8.5"
  }
 },
 "nbformat": 4,
 "nbformat_minor": 4
}
