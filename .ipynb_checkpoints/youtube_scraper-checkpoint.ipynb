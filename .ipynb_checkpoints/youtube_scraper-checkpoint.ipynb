{
 "cells": [
  {
   "cell_type": "code",
   "execution_count": 1,
   "metadata": {},
   "outputs": [],
   "source": [
    "import os\n",
    "import pickle\n",
    "from apiclient.discovery import build\n",
    "from ipynb.fs.defs.get_videos import get_channel_videos\n",
    "import pickle\n",
    "api_key = os.environ.get(\"YOUTUBE_API_KEY\")\n",
    "api_key2 = os.environ.get(\"YOUTUBE_API_KEY_2\")\n",
    "youtube = build('youtube', 'v3', developerKey=api_key2)"
   ]
  },
  {
   "cell_type": "markdown",
   "metadata": {},
   "source": [
    "### Display keys for a dict"
   ]
  },
  {
   "cell_type": "code",
   "execution_count": 2,
   "metadata": {},
   "outputs": [],
   "source": [
    "def display_keys(video, dict_key):\n",
    "    item = get_item_from_video(video, dict_key)\n",
    "    print(item.keys())"
   ]
  },
  {
   "cell_type": "markdown",
   "metadata": {},
   "source": []
  },
  {
   "cell_type": "markdown",
   "metadata": {},
   "source": [
    "## Get all videos from a YouTube channel"
   ]
  },
  {
   "cell_type": "code",
   "execution_count": 3,
   "metadata": {},
   "outputs": [],
   "source": [
    "# input 0 to get data from api\n",
    "# input 1 to get data from file\n",
    "get_from_file = 1\n",
    "if get_from_file == 0:\n",
    "    videos = get_channel_videos('UCyps-v4WNjWDnYRKmZ4BUGw', is_id=1)\n",
    "else:\n",
    "    original = pickle.load(open(\"original_videos.pickle\", \"rb\")) \n",
    "    videos_detail = pickle.load(open(\"videos.pickle\", \"rb\"))"
   ]
  },
  {
   "cell_type": "markdown",
   "metadata": {},
   "source": []
  },
  {
   "cell_type": "markdown",
   "metadata": {},
   "source": [
    "## Helper functions to retrieve data from each video"
   ]
  },
  {
   "cell_type": "code",
   "execution_count": 4,
   "metadata": {},
   "outputs": [],
   "source": [
    "def get_item_from_video(video, dict_key = \"\", original=0, snippet_item = \"\", statistics_item = \"\"):\n",
    "    snippet = video[\"snippet\"]\n",
    "    video_title = snippet[\"title\"]\n",
    "    \n",
    "    kind = video[\"kind\"]\n",
    "    etag = video[\"etag\"]\n",
    "    \n",
    "    if(original == 1):\n",
    "        video_id = snippet[\"resourceId\"][\"videoId\"]\n",
    "    else:\n",
    "        # items only available from video details array\n",
    "        video_id = video[\"id\"]\n",
    "        contentDetails = video['contentDetails']\n",
    "        statistics = video['statistics']\n",
    "    \n",
    "    ## check what item is being asked for\n",
    "    if(dict_key == \"id\"):\n",
    "        return video_id\n",
    "    elif(dict_key == \"title\"):\n",
    "        return video_title\n",
    "    elif(dict_key == \"snippet\"):\n",
    "        return snippet\n",
    "    elif(dict_key == \"contentDetails\"):\n",
    "        return contentDetails\n",
    "    elif(dict_key == \"statistics\"):\n",
    "        return statistics\n",
    "    elif(dict_key == \"kind\"):\n",
    "        return kind\n",
    "    elif(dict_key == \"etag\"):\n",
    "        return etag\n",
    "    elif(dict_key == \"\"):\n",
    "        # used when we want to display the whole array\n",
    "        # like in display_keys to get all main keys\n",
    "        return video\n",
    "    else:\n",
    "        return 0"
   ]
  },
  {
   "cell_type": "code",
   "execution_count": 6,
   "metadata": {},
   "outputs": [],
   "source": [
    "## filter videos based on title [Machine learning, AI, Deep Learning ....]\n",
    "\n",
    "# def filter(videos)\n",
    "# ...."
   ]
  },
  {
   "cell_type": "markdown",
   "metadata": {},
   "source": []
  },
  {
   "cell_type": "markdown",
   "metadata": {},
   "source": [
    "## get much more details about each video"
   ]
  },
  {
   "cell_type": "code",
   "execution_count": null,
   "metadata": {},
   "outputs": [],
   "source": [
    "def helper_get_single_video_details(video_id):\n",
    "    res = youtube.videos().list(\n",
    "        part=\"snippet,contentDetails,statistics\",\n",
    "        id=video_id).execute()\n",
    "    return res\n",
    "\n",
    "def get_videos_details(videos):\n",
    "    videos_detailed = []\n",
    "    for video in videos:\n",
    "        video_id = get_item_from_video(video, 'id', original=1)\n",
    "        res = helper_get_single_video_details(video_id)\n",
    "        videos_detailed += res['items']\n",
    "    return videos_detailed"
   ]
  },
  {
   "cell_type": "code",
   "execution_count": null,
   "metadata": {},
   "outputs": [],
   "source": [
    "# only need to retrieve video_details if this is from API and not from file\n",
    "# since the file data has already done this step from API\n",
    "if get_from_file == 0:\n",
    "    videos_detail = get_videos_details(videos)"
   ]
  },
  {
   "cell_type": "markdown",
   "metadata": {},
   "source": []
  },
  {
   "cell_type": "markdown",
   "metadata": {},
   "source": [
    "### Random testing"
   ]
  },
  {
   "cell_type": "code",
   "execution_count": null,
   "metadata": {},
   "outputs": [],
   "source": [
    "dicti = {}\n",
    "def working_on_getting_details(videos):\n",
    "    for item in range(0,2):\n",
    "        video = videos_detail[item]\n",
    "        video_id = get_item_from_video(video, 'id')\n",
    "        snippet = get_item_from_video(video, 'snippet')\n",
    "        statistics = get_item_from_video(video, 'statistics')\n",
    "        #displayKeys\n",
    "        display_keys(video, \"statistics\")\n",
    "        # results\n",
    "        print(statistics[\"likeCount\"])\n",
    "        print(video_id)\n",
    "        print(snippet)\n",
    "        print(statistics)\n",
    "        print(\"\\n\")\n",
    "working_on_getting_details(videos_detail)"
   ]
  },
  {
   "cell_type": "markdown",
   "metadata": {},
   "source": []
  },
  {
   "cell_type": "markdown",
   "metadata": {},
   "source": [
    "### Export to pickle file to be able to retrieve data later without having to run the entire thing again"
   ]
  },
  {
   "cell_type": "code",
   "execution_count": null,
   "metadata": {},
   "outputs": [],
   "source": [
    "#import videos to file if the data is from API\n",
    "if get_from_file == 0:\n",
    "    pickle.dump(videos, open(\"original_videos.pickle\",\"wb\"))\n",
    "\n",
    "pickle.dump(videos_detail, open(\"videos.pickle\",\"wb\"))"
   ]
  },
  {
   "cell_type": "markdown",
   "metadata": {},
   "source": []
  }
 ],
 "metadata": {
  "kernelspec": {
   "display_name": "Python 3",
   "language": "python",
   "name": "python3"
  },
  "language_info": {
   "codemirror_mode": {
    "name": "ipython",
    "version": 3
   },
   "file_extension": ".py",
   "mimetype": "text/x-python",
   "name": "python",
   "nbconvert_exporter": "python",
   "pygments_lexer": "ipython3",
   "version": "3.8.5"
  }
 },
 "nbformat": 4,
 "nbformat_minor": 4
}
