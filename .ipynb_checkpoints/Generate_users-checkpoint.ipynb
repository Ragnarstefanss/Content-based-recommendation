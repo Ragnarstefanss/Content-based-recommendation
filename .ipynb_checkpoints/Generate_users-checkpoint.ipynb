{
 "cells": [
  {
   "cell_type": "code",
   "execution_count": 27,
   "metadata": {},
   "outputs": [],
   "source": [
    "import random\n",
    "import pickle\n",
    "\n",
    "first_name_women = ['Emily', 'Sarah', 'Alexandra', 'Joanna']\n",
    "last_name_women = [\"Stefánsdóttir\",\"Baldursdóttir\", 'Hannah', 'Peters', 'Carly']\n",
    "\n",
    "#print random.randint(0, len(first_name_women))\n",
    "gen_names = []\n",
    "\n",
    "for i in range(1000):\n",
    "    rand_gen = random.randint(0, 1)\n",
    "    \n",
    "    # female name\n",
    "    if(rand_gen == 1):\n",
    "        rand1 = random.randint(0, len(first_name_women)-1)\n",
    "        rand2 = random.randint(0, len(last_name_women)-1)\n",
    "        gen = str(first_name_women[rand1] + \" \" + last_name_women[rand2])\n",
    "        if(gen not in gen_names):    \n",
    "            gen_names.append(gen)\n",
    "    \n",
    "    # male name\n",
    "    #else:\n",
    "        #print(rand_gen)"
   ]
  },
  {
   "cell_type": "code",
   "execution_count": 28,
   "metadata": {},
   "outputs": [
    {
     "data": {
      "text/plain": [
       "['Sarah Peters',\n",
       " 'Sarah Hannah',\n",
       " 'Joanna Stefánsdóttir',\n",
       " 'Sarah Carly',\n",
       " 'Alexandra Hannah',\n",
       " 'Emily Stefánsdóttir',\n",
       " 'Joanna Baldursdóttir',\n",
       " 'Joanna Hannah',\n",
       " 'Joanna Peters',\n",
       " 'Emily Carly',\n",
       " 'Alexandra Baldursdóttir',\n",
       " 'Joanna Carly',\n",
       " 'Sarah Stefánsdóttir',\n",
       " 'Alexandra Peters',\n",
       " 'Emily Peters',\n",
       " 'Alexandra Carly',\n",
       " 'Emily Hannah',\n",
       " 'Sarah Baldursdóttir',\n",
       " 'Emily Baldursdóttir',\n",
       " 'Alexandra Stefánsdóttir']"
      ]
     },
     "execution_count": 28,
     "metadata": {},
     "output_type": "execute_result"
    }
   ],
   "source": [
    "gen_names"
   ]
  },
  {
   "cell_type": "code",
   "execution_count": 29,
   "metadata": {},
   "outputs": [],
   "source": [
    "pickle.dump(gen_names, open(\"names.pickle\",\"wb\"))"
   ]
  }
 ],
 "metadata": {
  "kernelspec": {
   "display_name": "Python 3",
   "language": "python",
   "name": "python3"
  },
  "language_info": {
   "codemirror_mode": {
    "name": "ipython",
    "version": 3
   },
   "file_extension": ".py",
   "mimetype": "text/x-python",
   "name": "python",
   "nbconvert_exporter": "python",
   "pygments_lexer": "ipython3",
   "version": "3.8.5"
  }
 },
 "nbformat": 4,
 "nbformat_minor": 4
}
