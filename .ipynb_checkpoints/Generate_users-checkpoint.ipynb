{
 "cells": [
  {
   "cell_type": "markdown",
   "metadata": {},
   "source": [
    "### ALL CODE IN THIS FILE FROM\n",
    "- https://github.com/maknetaRo/python-100/blob/master/name-generator/name_scraper.py"
   ]
  },
  {
   "cell_type": "code",
   "execution_count": null,
   "metadata": {},
   "outputs": [],
   "source": [
    "import pickle\n",
    "import requests\n",
    "from bs4 import BeautifulSoup\n",
    "import webbrowser\n",
    "import random"
   ]
  },
  {
   "cell_type": "markdown",
   "metadata": {},
   "source": [
    "# Name scraper"
   ]
  },
  {
   "cell_type": "code",
   "execution_count": null,
   "metadata": {},
   "outputs": [],
   "source": [
    "def get_data(url, file_name):\n",
    "\n",
    "    page = requests.get(url)\n",
    "    page.raise_for_status()\n",
    "\n",
    "    soup = BeautifulSoup(page.text, \"html.parser\")\n",
    "\n",
    "    tbody = soup.find_all(id=\"myTable\")\n",
    "\n",
    "    f = open(file_name, \"w+\")\n",
    "    records = []\n",
    "\n",
    "    for elem in tbody:\n",
    "        rows = elem.find_all(\"tr\")\n",
    "        for row in rows[1:301]:\n",
    "            column = row.find(\"td\")\n",
    "            column_text = column.text[0] + column.text[1:].lower()\n",
    "            records.append(column_text)\n",
    "\n",
    "    for record in records:\n",
    "        f.write(record + \"\\n\")\n",
    "\n",
    "\n",
    "url = \"https://namecensus.com/data/1000.html\"\n",
    "file_name = \"last_names.txt\"\n",
    "get_data(url, file_name)\n",
    "\n",
    "url = \"https://namecensus.com/male_names.htm\"\n",
    "file_name = \"male_first_names.txt\"\n",
    "get_data(url, file_name)\n",
    "\n",
    "url = \"https://namecensus.com/female_names.htm\"\n",
    "file_name = \"female_first_names.txt\"\n",
    "get_data(url, file_name)"
   ]
  },
  {
   "cell_type": "markdown",
   "metadata": {},
   "source": [
    "# Name generator"
   ]
  },
  {
   "cell_type": "code",
   "execution_count": null,
   "metadata": {},
   "outputs": [],
   "source": [
    "def name_array(file):\n",
    "    with open(file) as fp:\n",
    "        new_list = []\n",
    "        for line in fp:\n",
    "            new_list.append(line.strip())\n",
    "    return new_list\n",
    "\n",
    "\n",
    "file = \"male_first_names.txt\"\n",
    "male_names = name_array(file)\n",
    "\n",
    "file = \"female_first_names.txt\"\n",
    "female_names = name_array(file)\n",
    "\n",
    "file = \"last_names.txt\"\n",
    "last_names = name_array(file)\n",
    "\n",
    "\n",
    "def random_name():\n",
    "    random_gender = random.randint(0, 1)\n",
    "    \n",
    "    if random_gender == 0:\n",
    "        result = f\"{random.choice(male_names)} {random.choice(last_names)}\"\n",
    "    elif random_gender == 1:\n",
    "        result = f\"{random.choice(female_names)} {random.choice(last_names)}\"\n",
    "    else:\n",
    "        result = \"Error occurrred\"\n",
    "    return result\n",
    "\n",
    "full_names = []\n",
    "\n",
    "for i in range(1000):\n",
    "    full_names.append(random_name())"
   ]
  },
  {
   "cell_type": "markdown",
   "metadata": {},
   "source": [
    "### Insert to a file for easier retrieval in other files"
   ]
  },
  {
   "cell_type": "code",
   "execution_count": null,
   "metadata": {},
   "outputs": [],
   "source": [
    "pickle.dump(full_names, open(\"names.pickle\",\"wb\"))"
   ]
  },
  {
   "cell_type": "code",
   "execution_count": null,
   "metadata": {},
   "outputs": [],
   "source": []
  }
 ],
 "metadata": {
  "kernelspec": {
   "display_name": "Python 3",
   "language": "python",
   "name": "python3"
  },
  "language_info": {
   "codemirror_mode": {
    "name": "ipython",
    "version": 3
   },
   "file_extension": ".py",
   "mimetype": "text/x-python",
   "name": "python",
   "nbconvert_exporter": "python",
   "pygments_lexer": "ipython3",
   "version": "3.8.5"
  }
 },
 "nbformat": 4,
 "nbformat_minor": 4
}
