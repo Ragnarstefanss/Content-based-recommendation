{
 "cells": [
  {
   "cell_type": "code",
   "execution_count": 1,
   "metadata": {},
   "outputs": [],
   "source": [
    "import os\n",
    "import pickle\n",
    "from apiclient.discovery import build\n",
    "from ipynb.fs.defs.get_videos import get_channel_videos\n",
    "import pickle\n",
    "api_key = os.environ.get(\"YOUTUBE_API_KEY\")\n",
    "api_key2 = os.environ.get(\"YOUTUBE_API_KEY_2\")\n",
    "youtube = build('youtube', 'v3', developerKey=api_key2)"
   ]
  },
  {
   "cell_type": "markdown",
   "metadata": {},
   "source": [
    "### Display keys for a dict"
   ]
  },
  {
   "cell_type": "code",
   "execution_count": 2,
   "metadata": {},
   "outputs": [],
   "source": [
    "def display_keys(video, dict_key):\n",
    "    item = get_item_from_video(video, dict_key)\n",
    "    print(item.keys())"
   ]
  },
  {
   "cell_type": "code",
   "execution_count": null,
   "metadata": {},
   "outputs": [],
   "source": []
  },
  {
   "cell_type": "markdown",
   "metadata": {},
   "source": [
    "## Get all videos from a YouTube channel"
   ]
  },
  {
   "cell_type": "code",
   "execution_count": 3,
   "metadata": {},
   "outputs": [],
   "source": [
    "# input 0 to get data from api\n",
    "# input 1 to get data from file\n",
    "get_from_file = 1\n",
    "if get_from_file == 0:\n",
    "    videos = get_channel_videos('UCyps-v4WNjWDnYRKmZ4BUGw', is_id=1)\n",
    "else:\n",
    "    original = pickle.load(open(\"original_videos.pickle\", \"rb\")) \n",
    "    videos_detail = pickle.load(open(\"videos.pickle\", \"rb\"))"
   ]
  },
  {
   "cell_type": "code",
   "execution_count": null,
   "metadata": {},
   "outputs": [],
   "source": []
  },
  {
   "cell_type": "markdown",
   "metadata": {},
   "source": [
    "## Helper functions to retrieve data from each video"
   ]
  },
  {
   "cell_type": "code",
   "execution_count": 4,
   "metadata": {},
   "outputs": [],
   "source": [
    "def get_item_from_video(video, dict_key = \"\", original=0, snippet_item = \"\", statistics_item = \"\"):\n",
    "    snippet = video[\"snippet\"]\n",
    "    video_title = snippet[\"title\"]\n",
    "    \n",
    "    kind = video[\"kind\"]\n",
    "    etag = video[\"etag\"]\n",
    "    \n",
    "    if(original == 1):\n",
    "        video_id = snippet[\"resourceId\"][\"videoId\"]\n",
    "    else:\n",
    "        # items only available from video details array\n",
    "        video_id = video[\"id\"]\n",
    "        contentDetails = video['contentDetails']\n",
    "        statistics = video['statistics']\n",
    "    \n",
    "    ## check what item is being asked for\n",
    "    if(dict_key == \"id\"):\n",
    "        return video_id\n",
    "    elif(dict_key == \"title\"):\n",
    "        return video_title\n",
    "    elif(dict_key == \"snippet\"):\n",
    "        return snippet\n",
    "    elif(dict_key == \"contentDetails\"):\n",
    "        return contentDetails\n",
    "    elif(dict_key == \"statistics\"):\n",
    "        return statistics\n",
    "    elif(dict_key == \"kind\"):\n",
    "        return kind\n",
    "    elif(dict_key == \"etag\"):\n",
    "        return etag\n",
    "    elif(dict_key == \"\"):\n",
    "        # used when we want to display the whole array\n",
    "        # like in display_keys to get all main keys\n",
    "        return video\n",
    "    else:\n",
    "        return 0"
   ]
  },
  {
   "cell_type": "code",
   "execution_count": 5,
   "metadata": {},
   "outputs": [],
   "source": [
    "## filter videos based on title [Machine learning, AI, Deep Learning ....]\n",
    "\n",
    "# def filter(videos)\n",
    "# ...."
   ]
  },
  {
   "cell_type": "code",
   "execution_count": null,
   "metadata": {},
   "outputs": [],
   "source": []
  },
  {
   "cell_type": "markdown",
   "metadata": {},
   "source": [
    "## get much more details about each video"
   ]
  },
  {
   "cell_type": "code",
   "execution_count": 6,
   "metadata": {},
   "outputs": [],
   "source": [
    "def helper_get_single_video_details(video_id):\n",
    "    res = youtube.videos().list(\n",
    "        part=\"snippet,contentDetails,statistics\",\n",
    "        id=video_id).execute()\n",
    "    return res\n",
    "\n",
    "def get_videos_details(videos):\n",
    "    videos_detailed = []\n",
    "    for video in videos:\n",
    "        video_id = get_item_from_video(video, 'id', original=1)\n",
    "        res = helper_get_single_video_details(video_id)\n",
    "        videos_detailed += res['items']\n",
    "    return videos_detailed"
   ]
  },
  {
   "cell_type": "code",
   "execution_count": 7,
   "metadata": {},
   "outputs": [],
   "source": [
    "# only need to retrieve video_details if this is from API and not from file\n",
    "# since the file data has already done this step from API\n",
    "if get_from_file == 0:\n",
    "    videos_detail = get_videos_details(videos)"
   ]
  },
  {
   "cell_type": "code",
   "execution_count": null,
   "metadata": {},
   "outputs": [],
   "source": []
  },
  {
   "cell_type": "markdown",
   "metadata": {},
   "source": [
    "### Random testing"
   ]
  },
  {
   "cell_type": "code",
   "execution_count": 8,
   "metadata": {},
   "outputs": [
    {
     "name": "stdout",
     "output_type": "stream",
     "text": [
      "dict_keys(['viewCount', 'likeCount', 'dislikeCount', 'favoriteCount', 'commentCount'])\n",
      "45654\n",
      "QQGm9DLdgVo\n",
      "{'publishedAt': '2021-02-18T23:31:55Z', 'channelId': 'UCyps-v4WNjWDnYRKmZ4BUGw', 'title': 'Celebrities Control My Life for 24 Hours! *Extreme*', 'description': 'The first 1000 people to use this link get a free trial of Skillshare Premium⚡️\\nhttps://skl.sh/airrack12201\\n\\nAND submit your new skill to be in the next video + $1000!! 🔥\\nhttps://forms.gle/avSqX6kospa2zf7NA\\n\\nFollow for a shout out at the end of the next video!!\\nINSTAGRAM ▶️ https://www.instagram.com/airrack/\\u200b \\nTWITTER ▶️https://twitter.com/airrack\\u200b\\nCOP MERCH ▶️ https://www.airrack.shop\\nText Me (I text back) ▶️ 310-347-4648\\n\\nBig thanks to these creators!\\nHarry Jowsey: https://www.instagram.com/harryjowsey/?hl=en\\nRyanSacrobat: https://m.youtube.com/c/ryanschneider\\nRyan Trahan: https://www.youtube.com/channel/UCnmGIkw-KdI0W5siakKPKog\\nCheeky Boyos: https://youtube.com/c/CheekyBoyos\\nJatie Vlogs: https://www.youtube.com/channel/UCnM1ay_QoQOpa1N2iejLA7A)\\nIreland Boys: https://www.youtube.com/channel/UCxgDfpB3rBRPozm3zzaRXTQ\\nSean MacCormac: https://www.instagram.com/seanmaccormac/?hl=en\\nFidias (Box guy): https://www.youtube.com/channel/UC3tTW_eJTV___rSUkUMnl5w\\n\\nBUSINESS ▶️ zack@onedayent.com \\nFollow Mack: https://www.instagram.com/mack/\\u200b\\n\\nPERFECT ROYALTY FREE MUSIC FOR YOUTUBE: free 30 day trial here: http://share.epidemicsound.com/airrack\\u200b\\nhttp://share.mscbd.fm/Airrack\\u200b\\nhttps://bit.ly/39m1FLh\\n\\nAwesome Stock Footage +  Templates for your YouTube videos! (ArtGrid/Storyblocks)\\nhttp://bit.ly/3qXz9Wm\\nhttps://bit.ly/3t5Gkxi\\n\\n\\nOuttro song ▶️ Axel Thesleff - Bad Karma\\nhttps://youtu.be/-sNWKbnaFkg\\u200b\\nAxel’s info - \\nhttps://www.youtube.com/channel/UCCip...\\u200b\\nhttps://www.facebook.com/axelthesleff...\\u200b\\nhttps://www.instagram.com/axelthesleff/', 'thumbnails': {'default': {'url': 'https://i.ytimg.com/vi/QQGm9DLdgVo/default.jpg', 'width': 120, 'height': 90}, 'medium': {'url': 'https://i.ytimg.com/vi/QQGm9DLdgVo/mqdefault.jpg', 'width': 320, 'height': 180}, 'high': {'url': 'https://i.ytimg.com/vi/QQGm9DLdgVo/hqdefault.jpg', 'width': 480, 'height': 360}, 'standard': {'url': 'https://i.ytimg.com/vi/QQGm9DLdgVo/sddefault.jpg', 'width': 640, 'height': 480}, 'maxres': {'url': 'https://i.ytimg.com/vi/QQGm9DLdgVo/maxresdefault.jpg', 'width': 1280, 'height': 720}}, 'channelTitle': 'airrack', 'tags': ['airrack', 'eric decker', 'airack', 'air rack', 'addison rae', 'addison rae dare tiktok', 'youtuber battle royal', 'youtubers control my life', 'airrack couch series', 'Youtubers Control My Life for 24 Hours...', 'creator games 2020 mr beast', 'dixie d', \"dixie d'amelio\", 'I Hid Myself In Celebrity Instagram Photos & No One Noticed...', 'job interview naked', 'dixie damelio youtube', 'airrack mr beast', 'Madison beer david Dobrik views podcast', 'Madison beer', 'Madison beer views podcast', 'Madison beer new tour'], 'categoryId': '24', 'liveBroadcastContent': 'none', 'localized': {'title': 'Celebrities Control My Life for 24 Hours! *Extreme*', 'description': 'The first 1000 people to use this link get a free trial of Skillshare Premium⚡️\\nhttps://skl.sh/airrack12201\\n\\nAND submit your new skill to be in the next video + $1000!! 🔥\\nhttps://forms.gle/avSqX6kospa2zf7NA\\n\\nFollow for a shout out at the end of the next video!!\\nINSTAGRAM ▶️ https://www.instagram.com/airrack/\\u200b \\nTWITTER ▶️https://twitter.com/airrack\\u200b\\nCOP MERCH ▶️ https://www.airrack.shop\\nText Me (I text back) ▶️ 310-347-4648\\n\\nBig thanks to these creators!\\nHarry Jowsey: https://www.instagram.com/harryjowsey/?hl=en\\nRyanSacrobat: https://m.youtube.com/c/ryanschneider\\nRyan Trahan: https://www.youtube.com/channel/UCnmGIkw-KdI0W5siakKPKog\\nCheeky Boyos: https://youtube.com/c/CheekyBoyos\\nJatie Vlogs: https://www.youtube.com/channel/UCnM1ay_QoQOpa1N2iejLA7A)\\nIreland Boys: https://www.youtube.com/channel/UCxgDfpB3rBRPozm3zzaRXTQ\\nSean MacCormac: https://www.instagram.com/seanmaccormac/?hl=en\\nFidias (Box guy): https://www.youtube.com/channel/UC3tTW_eJTV___rSUkUMnl5w\\n\\nBUSINESS ▶️ zack@onedayent.com \\nFollow Mack: https://www.instagram.com/mack/\\u200b\\n\\nPERFECT ROYALTY FREE MUSIC FOR YOUTUBE: free 30 day trial here: http://share.epidemicsound.com/airrack\\u200b\\nhttp://share.mscbd.fm/Airrack\\u200b\\nhttps://bit.ly/39m1FLh\\n\\nAwesome Stock Footage +  Templates for your YouTube videos! (ArtGrid/Storyblocks)\\nhttp://bit.ly/3qXz9Wm\\nhttps://bit.ly/3t5Gkxi\\n\\n\\nOuttro song ▶️ Axel Thesleff - Bad Karma\\nhttps://youtu.be/-sNWKbnaFkg\\u200b\\nAxel’s info - \\nhttps://www.youtube.com/channel/UCCip...\\u200b\\nhttps://www.facebook.com/axelthesleff...\\u200b\\nhttps://www.instagram.com/axelthesleff/'}, 'defaultAudioLanguage': 'en'}\n",
      "{'viewCount': '531667', 'likeCount': '45654', 'dislikeCount': '671', 'favoriteCount': '0', 'commentCount': '3803'}\n",
      "\n",
      "\n",
      "dict_keys(['viewCount', 'likeCount', 'dislikeCount', 'favoriteCount', 'commentCount'])\n",
      "69561\n",
      "TlxP5R2afX0\n",
      "{'publishedAt': '2021-02-10T22:57:41Z', 'channelId': 'UCyps-v4WNjWDnYRKmZ4BUGw', 'title': 'SNEAKING Into Super Bowl 2021!', 'description': 'Help us get to 50 Million!!🥰\\n\\nINSTAGRAM ▶️ https://www.instagram.com/airrack/\\u200b \\nTWITTER ▶️https://twitter.com/airrack\\u200b\\nCOP MERCH ▶️ https://www.airrack.shop\\nText Me (I text back) ▶️ 310-347-4648\\n\\nFollow Mack: https://www.instagram.com/mack/\\u200b\\nBUSINESS ▶️ zack@onedayent.com \\n\\nAll local and state covid procedures were followed and production was covid tested.\\n\\n\\nPERFECT ROYALTY FREE MUSIC FOR YOUTUBE: free 30 day trial here: http://share.epidemicsound.com/airrack\\u200b\\nhttp://share.mscbd.fm/Airrack\\u200b\\nhttps://bit.ly/39m1FLh\\n\\nAwesome Stock Footage +  Templates for your YouTube videos! (ArtGrid/Storyblocks)\\nhttp://bit.ly/3qXz9Wm\\nhttps://bit.ly/3t5Gkxi\\n\\n\\nOuttro song ▶️ Axel Thesleff - Bad Karma\\nhttps://youtu.be/-sNWKbnaFkg\\u200b\\nAxel’s info - \\nhttps://www.youtube.com/channel/UCCip...\\u200b\\nhttps://www.facebook.com/axelthesleff...\\u200b\\nhttps://www.instagram.com/axelthesleff/', 'thumbnails': {'default': {'url': 'https://i.ytimg.com/vi/TlxP5R2afX0/default.jpg', 'width': 120, 'height': 90}, 'medium': {'url': 'https://i.ytimg.com/vi/TlxP5R2afX0/mqdefault.jpg', 'width': 320, 'height': 180}, 'high': {'url': 'https://i.ytimg.com/vi/TlxP5R2afX0/hqdefault.jpg', 'width': 480, 'height': 360}, 'standard': {'url': 'https://i.ytimg.com/vi/TlxP5R2afX0/sddefault.jpg', 'width': 640, 'height': 480}, 'maxres': {'url': 'https://i.ytimg.com/vi/TlxP5R2afX0/maxresdefault.jpg', 'width': 1280, 'height': 720}}, 'channelTitle': 'airrack', 'tags': ['Streaking at Super Bowl', 'Super Bowl 55', 'Super Bowl 2021', 'airrack', 'airack', 'air rack', 'airrack sneaking in', 'airrack Dan bilzerian', 'super bowl streaker', 'jake paul fight', 'logan paul fight'], 'categoryId': '24', 'liveBroadcastContent': 'none', 'localized': {'title': 'SNEAKING Into Super Bowl 2021!', 'description': 'Help us get to 50 Million!!🥰\\n\\nINSTAGRAM ▶️ https://www.instagram.com/airrack/\\u200b \\nTWITTER ▶️https://twitter.com/airrack\\u200b\\nCOP MERCH ▶️ https://www.airrack.shop\\nText Me (I text back) ▶️ 310-347-4648\\n\\nFollow Mack: https://www.instagram.com/mack/\\u200b\\nBUSINESS ▶️ zack@onedayent.com \\n\\nAll local and state covid procedures were followed and production was covid tested.\\n\\n\\nPERFECT ROYALTY FREE MUSIC FOR YOUTUBE: free 30 day trial here: http://share.epidemicsound.com/airrack\\u200b\\nhttp://share.mscbd.fm/Airrack\\u200b\\nhttps://bit.ly/39m1FLh\\n\\nAwesome Stock Footage +  Templates for your YouTube videos! (ArtGrid/Storyblocks)\\nhttp://bit.ly/3qXz9Wm\\nhttps://bit.ly/3t5Gkxi\\n\\n\\nOuttro song ▶️ Axel Thesleff - Bad Karma\\nhttps://youtu.be/-sNWKbnaFkg\\u200b\\nAxel’s info - \\nhttps://www.youtube.com/channel/UCCip...\\u200b\\nhttps://www.facebook.com/axelthesleff...\\u200b\\nhttps://www.instagram.com/axelthesleff/'}, 'defaultAudioLanguage': 'en'}\n",
      "{'viewCount': '809994', 'likeCount': '69561', 'dislikeCount': '1414', 'favoriteCount': '0', 'commentCount': '2895'}\n",
      "\n",
      "\n"
     ]
    }
   ],
   "source": [
    "dicti = {}\n",
    "def working_on_getting_details(videos):\n",
    "    for item in range(0,2):\n",
    "        video = videos_detail[item]\n",
    "        video_id = get_item_from_video(video, 'id')\n",
    "        snippet = get_item_from_video(video, 'snippet')\n",
    "        statistics = get_item_from_video(video, 'statistics')\n",
    "        #displayKeys\n",
    "        display_keys(video, \"statistics\")\n",
    "        # results\n",
    "        print(statistics[\"likeCount\"])\n",
    "        print(video_id)\n",
    "        print(snippet)\n",
    "        print(statistics)\n",
    "        print(\"\\n\")\n",
    "working_on_getting_details(videos_detail)"
   ]
  },
  {
   "cell_type": "code",
   "execution_count": null,
   "metadata": {},
   "outputs": [],
   "source": []
  },
  {
   "cell_type": "markdown",
   "metadata": {},
   "source": [
    "### Export to pickle file to be able to retrieve data later without having to run the entire thing again"
   ]
  },
  {
   "cell_type": "code",
   "execution_count": 9,
   "metadata": {},
   "outputs": [],
   "source": [
    "#import videos to file if the data is from API\n",
    "if get_from_file == 0:\n",
    "    pickle.dump(videos, open(\"original_videos.pickle\",\"wb\"))\n",
    "\n",
    "pickle.dump(videos_detail, open(\"videos.pickle\",\"wb\"))"
   ]
  },
  {
   "cell_type": "code",
   "execution_count": null,
   "metadata": {},
   "outputs": [],
   "source": []
  }
 ],
 "metadata": {
  "kernelspec": {
   "display_name": "Python 3",
   "language": "python",
   "name": "python3"
  },
  "language_info": {
   "codemirror_mode": {
    "name": "ipython",
    "version": 3
   },
   "file_extension": ".py",
   "mimetype": "text/x-python",
   "name": "python",
   "nbconvert_exporter": "python",
   "pygments_lexer": "ipython3",
   "version": "3.8.5"
  }
 },
 "nbformat": 4,
 "nbformat_minor": 4
}
